{
 "cells": [
  {
   "cell_type": "code",
   "execution_count": 305,
   "metadata": {},
   "outputs": [],
   "source": [
    "import pandas as pd\n",
    "import unidecode\n",
    "import re\n",
    "\n",
    "import nltk\n",
    "from nltk.corpus import stopwords\n",
    "\n",
    "import spacy"
   ]
  },
  {
   "cell_type": "code",
   "execution_count": 306,
   "metadata": {},
   "outputs": [],
   "source": [
    "gmail = pd.read_csv(\"data/gmail_oscar.CSV\")\n",
    "\n",
    "zimbra = pd.read_csv(\"data/zimbra_oscar.CSV\")"
   ]
  },
  {
   "cell_type": "code",
   "execution_count": 307,
   "metadata": {},
   "outputs": [],
   "source": [
    "def text_cleaning(text):\n",
    "    text = unidecode.unidecode(text)\n",
    "    text = text.lower()\n",
    "    text = re.sub(r\"\"\"[.,\"'-:!;]\"\"\", '', text)\n",
    "    text = re.sub('\\s+', ' ', text)\n",
    "    text = text.split(' ')\n",
    "    return text"
   ]
  },
  {
   "cell_type": "code",
   "execution_count": 308,
   "metadata": {},
   "outputs": [],
   "source": [
    "def stop_words_french(text):\n",
    "    stop_words = stopwords.words('french')\n",
    "    text = [word for word in text if word not in stopwords.words('french') and len(word)>1]\n",
    "    return text\n",
    "\n",
    "def stop_words_english(text):\n",
    "    stop_words = stopwords.words('english')\n",
    "    text = [word for word in text if word not in stopwords.words('english') and len(word)>1]\n",
    "    return text"
   ]
  },
  {
   "cell_type": "code",
   "execution_count": 309,
   "metadata": {},
   "outputs": [],
   "source": [
    "def lemmatization(nlp, texte):\n",
    "    i = 0\n",
    "    # On regarde chaque mot dans le texte\n",
    "    # Chaque mot a le numéro i\n",
    "    for mot in texte:\n",
    "        # on va lemmatizer\n",
    "        doc = nlp(mot)\n",
    "        for token in doc:\n",
    "            texte[i] = token.lemma_\n",
    "        i += 1\n",
    "            \n",
    "    return texte"
   ]
  },
  {
   "cell_type": "code",
   "execution_count": 310,
   "metadata": {},
   "outputs": [],
   "source": [
    "def remove_https(corps):\n",
    "    \n",
    "    text_file = open(r'corps.txt', 'w',  encoding=\"utf-8\")\n",
    "    text_file.write(corps)\n",
    "    text_file.close()\n",
    "\n",
    "        \n",
    "    final_text_file = open(r'final_corps.txt', 'w',  encoding=\"utf-8\")\n",
    "    reading_text_file = open(r'corps.txt', 'r',  encoding=\"utf-8\")\n",
    "    for line in reading_text_file:\n",
    "        if \"https\" not in line:\n",
    "            final_text_file.write(line)\n",
    "            \n",
    "    final_text_file.close()\n",
    "    reading_text_file.close()\n",
    "\n",
    "    with open('final_corps.txt', 'r', encoding=\"utf-8\") as file:\n",
    "        return file.read()"
   ]
  },
  {
   "cell_type": "code",
   "execution_count": 311,
   "metadata": {},
   "outputs": [],
   "source": [
    "def columns_treatment(df):\n",
    "    df = df.iloc[:,[0,1,2,3]]\n",
    "    df = df.rename(columns={'Objet':'objet','Corps':'corps','De: (nom)':'nom', 'De: (adresse)':'adresse'})\n",
    "    return df"
   ]
  },
  {
   "cell_type": "code",
   "execution_count": 312,
   "metadata": {},
   "outputs": [],
   "source": [
    "def data_cleaning(df):\n",
    "    \n",
    "    df = columns_treatment(df)\n",
    "    \n",
    "    nlp_fr = spacy.load('fr_core_news_md')\n",
    "    nlp_en = spacy.load('en_core_web_md')\n",
    "    \n",
    "    is_english = False\n",
    "\n",
    "    for i in df.index:\n",
    "        \n",
    "        corps = remove_https(df['corps'][i])\n",
    "\n",
    "        corps = text_cleaning(corps)\n",
    "        \n",
    "        objet = text_cleaning(df['objet'][i])\n",
    "\n",
    "        #stop words cleaning for object\n",
    "        objet = stop_words_english(objet)\n",
    "        objet = stop_words_french(objet)\n",
    "        \n",
    "        # Lemmatization\n",
    "        objet_fr = lemmatization(nlp_fr, objet)\n",
    "        \n",
    "        objet_en = lemmatization(nlp_en, objet)\n",
    "        \n",
    "        # on vérifie si l'objet a été lemmatizé en anglais ou non\n",
    "        if objet_en != objet:\n",
    "            is_english = True\n",
    "        if is_english:\n",
    "            objet = objet_en\n",
    "            corps = stop_words_english(corps)\n",
    "            corps = lemmatization(nlp_en, corps)\n",
    "        else:\n",
    "            objet = objet_fr\n",
    "            corps = stop_words_french(corps)\n",
    "            corps = lemmatization(nlp_fr, corps)\n",
    "\n",
    "        df['objet'][i] = objet\n",
    "        df['corps'][i] = corps\n",
    "\n",
    "    return df"
   ]
  },
  {
   "cell_type": "code",
   "execution_count": 313,
   "metadata": {},
   "outputs": [
    {
     "name": "stdout",
     "output_type": "stream",
     "text": [
      "10 120\n"
     ]
    }
   ],
   "source": [
    "print(len(gmail),len(zimbra))"
   ]
  },
  {
   "cell_type": "code",
   "execution_count": 314,
   "metadata": {},
   "outputs": [],
   "source": [
    "gmail = data_cleaning(gmail)"
   ]
  },
  {
   "cell_type": "code",
   "execution_count": 315,
   "metadata": {},
   "outputs": [
    {
     "data": {
      "text/html": [
       "<div>\n",
       "<style scoped>\n",
       "    .dataframe tbody tr th:only-of-type {\n",
       "        vertical-align: middle;\n",
       "    }\n",
       "\n",
       "    .dataframe tbody tr th {\n",
       "        vertical-align: top;\n",
       "    }\n",
       "\n",
       "    .dataframe thead th {\n",
       "        text-align: right;\n",
       "    }\n",
       "</style>\n",
       "<table border=\"1\" class=\"dataframe\">\n",
       "  <thead>\n",
       "    <tr style=\"text-align: right;\">\n",
       "      <th></th>\n",
       "      <th>objet</th>\n",
       "      <th>corps</th>\n",
       "      <th>nom</th>\n",
       "      <th>adresse</th>\n",
       "    </tr>\n",
       "  </thead>\n",
       "  <tbody>\n",
       "    <tr>\n",
       "      <th>0</th>\n",
       "      <td>[course, lundi, matin, uber]</td>\n",
       "      <td>[octobre, bientot, oscar, voici, facture, cour...</td>\n",
       "      <td>Reçu Uber</td>\n",
       "      <td>noreply@uber.com</td>\n",
       "    </tr>\n",
       "    <tr>\n",
       "      <th>1</th>\n",
       "      <td>[verifier, frais, dannulation]</td>\n",
       "      <td>[vouloir, repondre, audessus, ce, ligne, repon...</td>\n",
       "      <td>Uber Support</td>\n",
       "      <td>contact_b92ffc2b-70bb-4116-ab15-6363af4dc0ce@e...</td>\n",
       "    </tr>\n",
       "    <tr>\n",
       "      <th>2</th>\n",
       "      <td>[course, lundi, matin, uber]</td>\n",
       "      <td>[octobre, oscar, merci, davoir, utilise, uber,...</td>\n",
       "      <td>Reçu Uber</td>\n",
       "      <td>noreply@uber.com</td>\n",
       "    </tr>\n",
       "    <tr>\n",
       "      <th>3</th>\n",
       "      <td>[vente, flash, biere, blonde]</td>\n",
       "      <td>[decouvrer, vite, selection, jusqua, demain, s...</td>\n",
       "      <td>Saveur Bière By PerfectDraft</td>\n",
       "      <td>saveur-biere@m.perfectdraft.com</td>\n",
       "    </tr>\n",
       "    <tr>\n",
       "      <th>4</th>\n",
       "      <td>[alerte, mail, appartement, piece, pari]</td>\n",
       "      <td>[annoncer, correspondre, recherche, location, ...</td>\n",
       "      <td>PAP.fr</td>\n",
       "      <td>users-alertes@pap.fr</td>\n",
       "    </tr>\n",
       "  </tbody>\n",
       "</table>\n",
       "</div>"
      ],
      "text/plain": [
       "                                      objet  \\\n",
       "0              [course, lundi, matin, uber]   \n",
       "1            [verifier, frais, dannulation]   \n",
       "2              [course, lundi, matin, uber]   \n",
       "3             [vente, flash, biere, blonde]   \n",
       "4  [alerte, mail, appartement, piece, pari]   \n",
       "\n",
       "                                               corps  \\\n",
       "0  [octobre, bientot, oscar, voici, facture, cour...   \n",
       "1  [vouloir, repondre, audessus, ce, ligne, repon...   \n",
       "2  [octobre, oscar, merci, davoir, utilise, uber,...   \n",
       "3  [decouvrer, vite, selection, jusqua, demain, s...   \n",
       "4  [annoncer, correspondre, recherche, location, ...   \n",
       "\n",
       "                            nom  \\\n",
       "0                     Reçu Uber   \n",
       "1                  Uber Support   \n",
       "2                     Reçu Uber   \n",
       "3  Saveur Bière By PerfectDraft   \n",
       "4                        PAP.fr   \n",
       "\n",
       "                                             adresse  \n",
       "0                                   noreply@uber.com  \n",
       "1  contact_b92ffc2b-70bb-4116-ab15-6363af4dc0ce@e...  \n",
       "2                                   noreply@uber.com  \n",
       "3                    saveur-biere@m.perfectdraft.com  \n",
       "4                               users-alertes@pap.fr  "
      ]
     },
     "execution_count": 315,
     "metadata": {},
     "output_type": "execute_result"
    }
   ],
   "source": [
    "gmail.head()"
   ]
  },
  {
   "cell_type": "code",
   "execution_count": null,
   "metadata": {},
   "outputs": [],
   "source": []
  }
 ],
 "metadata": {
  "kernelspec": {
   "display_name": "Python 3.10.8 64-bit",
   "language": "python",
   "name": "python3"
  },
  "language_info": {
   "codemirror_mode": {
    "name": "ipython",
    "version": 3
   },
   "file_extension": ".py",
   "mimetype": "text/x-python",
   "name": "python",
   "nbconvert_exporter": "python",
   "pygments_lexer": "ipython3",
   "version": "3.10.8"
  },
  "orig_nbformat": 4,
  "vscode": {
   "interpreter": {
    "hash": "27fd6a064d6c7c8082aaa95ab329c8297122ddbb839f6b085e9f9d2309e1bfb3"
   }
  }
 },
 "nbformat": 4,
 "nbformat_minor": 2
}
