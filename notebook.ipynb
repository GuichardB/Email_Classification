{
 "cells": [
  {
   "cell_type": "code",
   "execution_count": 2,
   "metadata": {},
   "outputs": [
    {
     "ename": "ModuleNotFoundError",
     "evalue": "No module named 'unidecode'",
     "output_type": "error",
     "traceback": [
      "\u001b[1;31m---------------------------------------------------------------------------\u001b[0m",
      "\u001b[1;31mModuleNotFoundError\u001b[0m                       Traceback (most recent call last)",
      "\u001b[1;32m~\\AppData\\Local\\Temp/ipykernel_1372/3276485352.py\u001b[0m in \u001b[0;36m<module>\u001b[1;34m\u001b[0m\n\u001b[0;32m      1\u001b[0m \u001b[1;32mimport\u001b[0m \u001b[0mpandas\u001b[0m \u001b[1;32mas\u001b[0m \u001b[0mpd\u001b[0m\u001b[1;33m\u001b[0m\u001b[1;33m\u001b[0m\u001b[0m\n\u001b[0;32m      2\u001b[0m \u001b[1;32mimport\u001b[0m \u001b[0mglob\u001b[0m\u001b[1;33m\u001b[0m\u001b[1;33m\u001b[0m\u001b[0m\n\u001b[1;32m----> 3\u001b[1;33m \u001b[1;32mimport\u001b[0m \u001b[0munidecode\u001b[0m\u001b[1;33m\u001b[0m\u001b[1;33m\u001b[0m\u001b[0m\n\u001b[0m\u001b[0;32m      4\u001b[0m \u001b[1;32mimport\u001b[0m \u001b[0mre\u001b[0m\u001b[1;33m\u001b[0m\u001b[1;33m\u001b[0m\u001b[0m\n\u001b[0;32m      5\u001b[0m \u001b[1;33m\u001b[0m\u001b[0m\n",
      "\u001b[1;31mModuleNotFoundError\u001b[0m: No module named 'unidecode'"
     ]
    }
   ],
   "source": [
    "import pandas as pd\n",
    "import glob\n",
    "import unidecode\n",
    "import re\n",
    "\n",
    "import nltk\n",
    "from nltk.corpus import stopwords\n",
    "import os\n",
    "import spacy\n",
    "from happytransformer import HappyTextToText\n",
    "from langdetect import detect"
   ]
  },
  {
   "cell_type": "code",
   "execution_count": null,
   "metadata": {},
   "outputs": [],
   "source": [
    "def fusion_csv(liste_csv):\n",
    "    dataset = pd.read_csv(liste_csv[0])\n",
    "    for ds in liste_csv[1:]:\n",
    "        dataset = pd.concat([dataset, pd.read_csv(ds)], ignore_index=True)\n",
    "    \n",
    "    return dataset"
   ]
  },
  {
   "cell_type": "code",
   "execution_count": null,
   "metadata": {},
   "outputs": [],
   "source": [
    "liste_csv = glob.glob('data'+os.path.sep+'*.CSV')\n",
    "\n",
    "dataset = fusion_csv(liste_csv)\n",
    "\n",
    "dataset"
   ]
  },
  {
   "cell_type": "code",
   "execution_count": null,
   "metadata": {},
   "outputs": [],
   "source": [
    "def text_translation(text, df):\n",
    "    lang = detect(text)\n",
    "    if lang == \"fr\":\n",
    "        #translate\n",
    "        print(\"\")\n",
    "    elif lang == \"en\":\n",
    "        print(\"\") #nothing happens\n",
    "    else:\n",
    "        #erase the email\n",
    "        print(\"\")"
   ]
  },
  {
   "cell_type": "code",
   "execution_count": null,
   "metadata": {},
   "outputs": [],
   "source": [
    "text_translation(\"모든 인간은\") #just to try"
   ]
  },
  {
   "cell_type": "code",
   "execution_count": null,
   "metadata": {},
   "outputs": [],
   "source": [
    "def text_cleaning(text):\n",
    "    text = str(text)\n",
    "    text = unidecode.unidecode(text)\n",
    "    text = re.sub(r\"\"\"[.,/\"':!;\\\\]\"\"\", '', text)\n",
    "    text = re.sub(r\"\"\"[0-9]+\"\"\", '', text) #removing numbers\n",
    "    text = re.sub(r\"\"\"-\"\"\", ' ', text) #uniquement - pour les mots du style \"allez-vous\"\n",
    "    text = re.sub('\\s+', ' ', text)\n",
    "    text = text.split(' ')\n",
    "    return text"
   ]
  },
  {
   "cell_type": "code",
   "execution_count": null,
   "metadata": {},
   "outputs": [],
   "source": [
    "def clean_address(text):\n",
    "    index = len(text)\n",
    "    text = text.replace('@', ' ')\n",
    "    text = text[:index-4] + text[index-4:].replace(\".\", ' ')\n",
    "    text = text.split(' ')\n",
    "    return text"
   ]
  },
  {
   "cell_type": "code",
   "execution_count": null,
   "metadata": {},
   "outputs": [],
   "source": [
    "def stop_words_french(text):\n",
    "    stop_words = stopwords.words('french')\n",
    "    text = [word for word in text if word not in stopwords.words('french') and len(word)>1]\n",
    "    return text\n",
    "\n",
    "def stop_words_english(text):\n",
    "    stop_words = stopwords.words('english')\n",
    "    text = [word for word in text if word not in stopwords.words('english') and len(word)>1]\n",
    "    return text"
   ]
  },
  {
   "cell_type": "code",
   "execution_count": null,
   "metadata": {},
   "outputs": [],
   "source": [
    "def lemmatization(nlp, texte):\n",
    "    i = 0\n",
    "    # On regarde chaque mot dans le texte\n",
    "    # Chaque mot a le numéro i\n",
    "    for mot in texte:\n",
    "        # on va lemmatizer\n",
    "        doc = nlp(mot)\n",
    "        for token in doc:\n",
    "            texte[i] = token.lemma_.lower()\n",
    "            \n",
    "        i += 1\n",
    "    \n",
    "            \n",
    "    return texte"
   ]
  },
  {
   "cell_type": "code",
   "execution_count": null,
   "metadata": {},
   "outputs": [],
   "source": [
    "def remove_https(corps):\n",
    "\n",
    "    text_file = open(r'corps.txt', 'w',  encoding=\"utf-8\")\n",
    "    text_file.write(corps)\n",
    "    text_file.close()\n",
    "\n",
    "        \n",
    "    final_text_file = open(r'final_corps.txt', 'w',  encoding=\"utf-8\")\n",
    "    reading_text_file = open(r'corps.txt', 'r',  encoding=\"utf-8\")\n",
    "    for line in reading_text_file:\n",
    "        if \"https\" not in line:\n",
    "            final_text_file.write(line)\n",
    "            \n",
    "    final_text_file.close()\n",
    "    reading_text_file.close()\n",
    "\n",
    "    with open('final_corps.txt', 'r', encoding=\"utf-8\") as file:\n",
    "        return file.read()"
   ]
  },
  {
   "cell_type": "code",
   "execution_count": null,
   "metadata": {},
   "outputs": [],
   "source": [
    "def columns_treatment(df):\n",
    "    df = df.iloc[:,[0,1,2,3]]\n",
    "    df = df.rename(columns={'Objet':'objet','Corps':'corps','De: (nom)':'nom', 'De: (adresse)':'adresse'})\n",
    "    return df"
   ]
  },
  {
   "cell_type": "code",
   "execution_count": null,
   "metadata": {},
   "outputs": [],
   "source": [
    "def data_cleaning(df):\n",
    "    \n",
    "    df = columns_treatment(df)\n",
    "    \n",
    "    # nlp_fr = spacy.load('fr_core_news_md')\n",
    "    nlp_en = spacy.load('en_core_web_md')\n",
    "    \n",
    "    is_english = False\n",
    "\n",
    "    for i in df.index:\n",
    "        \n",
    "        corps = remove_https(str(df['corps'][i]))\n",
    "\n",
    "        corps = text_cleaning(corps)\n",
    "        \n",
    "        objet = text_cleaning(df['objet'][i])\n",
    "\n",
    "        #stop words cleaning for object\n",
    "        objet = stop_words_english(objet)\n",
    "        # objet = stop_words_french(objet)\n",
    "        \n",
    "        # Lemmatization\n",
    "        # objet_fr = lemmatization(nlp_fr, objet)\n",
    "        objet_en = lemmatization(nlp_en, objet)\n",
    "        \n",
    "        # on vérifie si l'objet a été lemmatizé en anglais ou non\n",
    "        # if objet_en != objet:\n",
    "        #     is_english = True\n",
    "        # if is_english:\n",
    "        # objet = objet_en\n",
    "        corps = stop_words_english(corps)\n",
    "        corps = lemmatization(nlp_en, corps)\n",
    "        # else:\n",
    "        #     objet = objet_fr\n",
    "        #     corps = stop_words_french(corps)\n",
    "        #     corps = lemmatization(nlp_fr, corps)\n",
    "\n",
    "        df['objet'][i] = objet_en\n",
    "        df['corps'][i] = corps\n",
    "\n",
    "        df['adresse'][i] = clean_address(df['adresse'][i])\n",
    "\n",
    "    return df"
   ]
  },
  {
   "cell_type": "code",
   "execution_count": null,
   "metadata": {},
   "outputs": [],
   "source": [
    "dataset = data_cleaning(dataset)\n"
   ]
  },
  {
   "cell_type": "code",
   "execution_count": null,
   "metadata": {},
   "outputs": [],
   "source": [
    "dataset"
   ]
  },
  {
   "cell_type": "code",
   "execution_count": null,
   "metadata": {},
   "outputs": [],
   "source": [
    "dataset.head()"
   ]
  },
  {
   "cell_type": "code",
   "execution_count": null,
   "metadata": {},
   "outputs": [],
   "source": []
  }
 ],
 "metadata": {
  "kernelspec": {
   "display_name": "Python 3.9.13 64-bit (microsoft store)",
   "language": "python",
   "name": "python3"
  },
  "language_info": {
   "codemirror_mode": {
    "name": "ipython",
    "version": 3
   },
   "file_extension": ".py",
   "mimetype": "text/x-python",
   "name": "python",
   "nbconvert_exporter": "python",
   "pygments_lexer": "ipython3",
   "version": "3.9.13"
  },
  "orig_nbformat": 4,
  "vscode": {
   "interpreter": {
    "hash": "a00094f430d4e0bf31d8bcd1818e632624f2ff7a6dccccbf63d2a36832140da3"
   }
  }
 },
 "nbformat": 4,
 "nbformat_minor": 2
}
