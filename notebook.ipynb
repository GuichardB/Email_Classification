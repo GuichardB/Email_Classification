{
 "cells": [
  {
   "cell_type": "code",
   "execution_count": 70,
   "metadata": {},
   "outputs": [
    {
     "name": "stdout",
     "output_type": "stream",
     "text": [
      "<class 'str'>\n",
      "<class 'str'>\n",
      "0    \\n octobre \\n\\n \\t\\n\\n \\t\\n\\n \\t \\ta bientot o...\n",
      "1    /// Veuillez répondre au-dessus de cette ligne...\n",
      "2     \\t \\t <https://d1a3f4spazzrp4.cloudfront.net/...\n",
      "3    Découvrez vite la sélection.\\r\\n ‌ ‌ ‌ ‌ ‌ ‌ ‌...\n",
      "4     <https://www.pap.fr/emails/images/logo-pap-pa...\n",
      "Name: Corps, dtype: object\n"
     ]
    },
    {
     "name": "stderr",
     "output_type": "stream",
     "text": [
      "<ipython-input-70-4d7786e2e436>:46: SettingWithCopyWarning: \n",
      "A value is trying to be set on a copy of a slice from a DataFrame\n",
      "\n",
      "See the caveats in the documentation: https://pandas.pydata.org/pandas-docs/stable/user_guide/indexing.html#returning-a-view-versus-a-copy\n",
      "  gmail[\"Corps\"][i] = data\n"
     ]
    }
   ],
   "source": [
    "import pandas as pd\n",
    "import unidecode\n",
    "import re\n",
    "\n",
    "gmail = pd.read_csv(\"data/gmail_oscar.CSV\")\n",
    "\n",
    "zimbra = pd.read_csv(\"data/zimbra_oscar.CSV\")\n",
    "\n",
    "print(type(zimbra['Corps'][3]))\n",
    "\n",
    "i = 0\n",
    "for corps in gmail[\"Corps\"]:\n",
    "    text_file = open(r'corps.txt', 'w',  encoding=\"utf-8\")\n",
    "    text_file.write(corps)\n",
    "    text_file.close()\n",
    "\n",
    "    \n",
    "    final_text_file = open(r'final_corps.txt', 'w',  encoding=\"utf-8\")\n",
    "    reading_text_file = open(r'corps.txt', 'r',  encoding=\"utf-8\")\n",
    "    for line in reading_text_file:\n",
    "        if \"https\" not in line:\n",
    "            final_text_file.write(line)\n",
    "        \n",
    "    final_text_file.close()\n",
    "    reading_text_file.close()\n",
    "\n",
    "    with open('final_corps.txt', 'r', encoding=\"utf-8\") as file:\n",
    "        data = file.read()\n",
    "    \n",
    "\n",
    "    data = unidecode.unidecode(data)\n",
    "    data = data.lower()\n",
    "    data = re.sub(r\"\"\"[.,\"'-:!;]\"\"\", '', data)\n",
    "\n",
    "    print(type(data))\n",
    "\n",
    "    gmail[\"Corps\"][i] = data\n",
    "\n",
    "    i = i+1\n",
    "    break\n",
    "print(gmail[\"Corps\"].head()) # Les retours chariots à supprimer, encore une partie de data cleaning a faire\n"
   ]
  }
 ],
 "metadata": {
  "interpreter": {
   "hash": "c446c1c98307b9c78a7f762f1862c7e5c3bda54b13c327e2dbc4e9a57ab37de8"
  },
  "kernelspec": {
   "display_name": "Python 3.9.13 64-bit (windows store)",
   "name": "python3"
  },
  "language_info": {
   "codemirror_mode": {
    "name": "ipython",
    "version": 3
   },
   "file_extension": ".py",
   "mimetype": "text/x-python",
   "name": "python",
   "nbconvert_exporter": "python",
   "pygments_lexer": "ipython3",
   "version": "3.9.13"
  },
  "orig_nbformat": 4
 },
 "nbformat": 4,
 "nbformat_minor": 2
}
