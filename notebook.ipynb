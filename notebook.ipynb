{
 "cells": [
  {
   "cell_type": "code",
   "execution_count": 107,
   "metadata": {},
   "outputs": [
    {
     "name": "stderr",
     "output_type": "stream",
     "text": [
      "<ipython-input-107-b0269a0bd22e>:44: SettingWithCopyWarning: \n",
      "A value is trying to be set on a copy of a slice from a DataFrame\n",
      "\n",
      "See the caveats in the documentation: https://pandas.pydata.org/pandas-docs/stable/user_guide/indexing.html#returning-a-view-versus-a-copy\n",
      "  gmail[\"Corps\"][i] = data\n"
     ]
    },
    {
     "name": "stdout",
     "output_type": "stream",
     "text": [
      "Index(['Objet', 'Corps', 'De: (nom)', 'De: (adresse)', 'De: (type)',\n",
      "       'A: (nom)', 'A: (adresse)', 'A: (type)', 'Cc: (nom)', 'Cc: (adresse)',\n",
      "       'Cc: (Type)', 'Cci: (nom)', 'Cci: (adresse)', 'Cci: (type)',\n",
      "       'Catégories', 'Critère de diffusion', 'Importance',\n",
      "       'Informations facturation', 'Kilométrage'],\n",
      "      dtype='object')\n"
     ]
    }
   ],
   "source": [
    "import pandas as pd\n",
    "import unidecode\n",
    "import re\n",
    "\n",
    "import nltk\n",
    "from nltk.corpus import stopwords\n",
    "\n",
    "gmail = pd.read_csv(\"data/gmail_oscar.CSV\")\n",
    "\n",
    "zimbra = pd.read_csv(\"data/zimbra_oscar.CSV\")\n",
    "\n",
    "i = 0\n",
    "for corps in gmail[\"Corps\"]:\n",
    "    text_file = open(r'corps.txt', 'w',  encoding=\"utf-8\")\n",
    "    text_file.write(corps)\n",
    "    text_file.close()\n",
    "\n",
    "    \n",
    "    final_text_file = open(r'final_corps.txt', 'w',  encoding=\"utf-8\")\n",
    "    reading_text_file = open(r'corps.txt', 'r',  encoding=\"utf-8\")\n",
    "    for line in reading_text_file:\n",
    "        if \"https\" not in line:\n",
    "            final_text_file.write(line)\n",
    "        \n",
    "    final_text_file.close()\n",
    "    reading_text_file.close()\n",
    "\n",
    "    with open('final_corps.txt', 'r', encoding=\"utf-8\") as file:\n",
    "        data = file.read()\n",
    "    \n",
    "\n",
    "    data = unidecode.unidecode(data)\n",
    "    data = data.lower()\n",
    "    data = re.sub(r\"\"\"[.,\"'-:!;]\"\"\", '', data)\n",
    "    data = re.sub('\\s+', ' ', data)\n",
    "    data = data.split(' ')\n",
    "\n",
    "\n",
    "    # print(\"avant de retirer les stopwords : \", len(data), \" mots\")\n",
    "    stop_words = stopwords.words('french')\n",
    "    data = [word for word in data if word not in stopwords.words('french') and len(word)>1]\n",
    "    # print(\"Après avoir retiré les stopwords : \", len(data), \" mots\")\n",
    "\n",
    "    gmail[\"Corps\"][i] = data\n",
    "\n",
    "    i = i+1\n",
    "\n",
    "print(zimbra.columns)\n",
    "\n",
    "#things to do : lemmatizer + faire ca pour zimbra aussi (ou alors combiner nos datasets pour en faire qu'un seul dès le début) + faire le meme process de traitement cleaning sur l'objet du mail aussi par exemple."
   ]
  }
 ],
 "metadata": {
  "interpreter": {
   "hash": "c446c1c98307b9c78a7f762f1862c7e5c3bda54b13c327e2dbc4e9a57ab37de8"
  },
  "kernelspec": {
   "display_name": "Python 3.9.13 64-bit (windows store)",
   "name": "python3"
  },
  "language_info": {
   "name": "python",
   "version": "3.9.13"
  },
  "orig_nbformat": 4
 },
 "nbformat": 4,
 "nbformat_minor": 2
}
