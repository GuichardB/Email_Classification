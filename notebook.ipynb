{
 "cells": [
  {
   "cell_type": "code",
   "execution_count": null,
   "metadata": {},
   "outputs": [],
   "source": [
    "import pandas as pd\n",
    "import glob\n",
    "import unidecode\n",
    "import re\n",
    "\n",
    "import nltk\n",
    "from nltk.corpus import stopwords\n",
    "\n",
    "import spacy"
   ]
  },
  {
   "cell_type": "code",
   "execution_count": null,
   "metadata": {},
   "outputs": [],
   "source": [
    "def fusion_csv(liste_csv):\n",
    "    dataset = pd.read_csv(liste_csv[0])\n",
    "    for ds in liste_csv[1:]:\n",
    "        dataset = pd.concat([dataset, pd.read_csv(ds)], ignore_index=True)\n",
    "    \n",
    "    return dataset"
   ]
  },
  {
   "cell_type": "code",
   "execution_count": null,
   "metadata": {},
   "outputs": [],
   "source": [
    "liste_csv = glob.glob('data'+os.path.sep+'*.CSV')\n",
    "\n",
    "dataset = fusion_csv(liste_csv)\n",
    "\n",
    "dataset"
   ]
  },
  {
   "cell_type": "code",
   "execution_count": null,
   "metadata": {},
   "outputs": [],
   "source": [
    "def text_cleaning(text):\n",
    "    text = unidecode.unidecode(text)\n",
    "    text = re.sub(r\"\"\"[.,\"'-:!;]\"\"\", '', text)\n",
    "    text = re.sub('\\s+', ' ', text)\n",
    "    text = text.split(' ')\n",
    "    return text"
   ]
  },
  {
   "cell_type": "code",
   "execution_count": null,
   "metadata": {},
   "outputs": [],
   "source": [
    "def stop_words_french(text):\n",
    "    stop_words = stopwords.words('french')\n",
    "    text = [word for word in text if word not in stopwords.words('french') and len(word)>1]\n",
    "    return text\n",
    "\n",
    "def stop_words_english(text):\n",
    "    stop_words = stopwords.words('english')\n",
    "    text = [word for word in text if word not in stopwords.words('english') and len(word)>1]\n",
    "    return text"
   ]
  },
  {
   "cell_type": "code",
   "execution_count": null,
   "metadata": {},
   "outputs": [],
   "source": [
    "def lemmatization(nlp, texte):\n",
    "    i = 0\n",
    "    # On regarde chaque mot dans le texte\n",
    "    # Chaque mot a le numéro i\n",
    "    for mot in texte:\n",
    "        # on va lemmatizer\n",
    "        doc = nlp(mot)\n",
    "        for token in doc:\n",
    "            texte[i] = token.lemma_.lower()\n",
    "            \n",
    "        i += 1\n",
    "    \n",
    "            \n",
    "    return texte"
   ]
  },
  {
   "cell_type": "code",
   "execution_count": null,
   "metadata": {},
   "outputs": [],
   "source": [
    "def remove_https(corps):\n",
    "\n",
    "    text_file = open(r'corps.txt', 'w',  encoding=\"utf-8\")\n",
    "    text_file.write(corps)\n",
    "    text_file.close()\n",
    "\n",
    "        \n",
    "    final_text_file = open(r'final_corps.txt', 'w',  encoding=\"utf-8\")\n",
    "    reading_text_file = open(r'corps.txt', 'r',  encoding=\"utf-8\")\n",
    "    for line in reading_text_file:\n",
    "        if \"https\" not in line:\n",
    "            final_text_file.write(line)\n",
    "            \n",
    "    final_text_file.close()\n",
    "    reading_text_file.close()\n",
    "\n",
    "    with open('final_corps.txt', 'r', encoding=\"utf-8\") as file:\n",
    "        return file.read()"
   ]
  },
  {
   "cell_type": "code",
   "execution_count": null,
   "metadata": {},
   "outputs": [],
   "source": [
    "def columns_treatment(df):\n",
    "    df = df.iloc[:,[0,1,2,3]]\n",
    "    df = df.rename(columns={'Objet':'objet','Corps':'corps','De: (nom)':'nom', 'De: (adresse)':'adresse'})\n",
    "    return df"
   ]
  },
  {
   "cell_type": "code",
   "execution_count": null,
   "metadata": {},
   "outputs": [],
   "source": [
    "def data_cleaning(df):\n",
    "    \n",
    "    df = columns_treatment(df)\n",
    "    \n",
    "    nlp_fr = spacy.load('fr_core_news_md')\n",
    "    nlp_en = spacy.load('en_core_web_md')\n",
    "    \n",
    "    is_english = False\n",
    "\n",
    "    for i in df.index:\n",
    "        \n",
    "        corps = remove_https(df['corps'][i])\n",
    "\n",
    "        corps = text_cleaning(corps)\n",
    "        \n",
    "        objet = text_cleaning(df['objet'][i])\n",
    "\n",
    "        #stop words cleaning for object\n",
    "        objet = stop_words_english(objet)\n",
    "        objet = stop_words_french(objet)\n",
    "        \n",
    "        # Lemmatization\n",
    "        objet_fr = lemmatization(nlp_fr, objet)\n",
    "        \n",
    "        objet_en = lemmatization(nlp_en, objet)\n",
    "        \n",
    "        # on vérifie si l'objet a été lemmatizé en anglais ou non\n",
    "        if objet_en != objet:\n",
    "            is_english = True\n",
    "        if is_english:\n",
    "            objet = objet_en\n",
    "            corps = stop_words_english(corps)\n",
    "            corps = lemmatization(nlp_en, corps)\n",
    "        else:\n",
    "            objet = objet_fr\n",
    "            corps = stop_words_french(corps)\n",
    "            corps = lemmatization(nlp_fr, corps)\n",
    "\n",
    "        df['objet'][i] = objet\n",
    "        df['corps'][i] = corps\n",
    "\n",
    "    return df"
   ]
  },
  {
   "cell_type": "code",
   "execution_count": null,
   "metadata": {},
   "outputs": [],
   "source": [
    "dataset = data_cleaning(dataset)\n"
   ]
  },
  {
   "cell_type": "code",
   "execution_count": null,
   "metadata": {},
   "outputs": [],
   "source": [
    "dataset"
   ]
  },
  {
   "cell_type": "code",
   "execution_count": null,
   "metadata": {},
   "outputs": [],
   "source": [
    "dataset.head()"
   ]
  },
  {
   "cell_type": "code",
   "execution_count": null,
   "metadata": {},
   "outputs": [],
   "source": []
  }
 ],
 "metadata": {
  "interpreter": {
   "hash": "c446c1c98307b9c78a7f762f1862c7e5c3bda54b13c327e2dbc4e9a57ab37de8"
  },
  "kernelspec": {
   "display_name": "Python 3.9.13 64-bit (windows store)",
   "name": "python3"
  },
  "language_info": {
   "codemirror_mode": {
    "name": "ipython",
    "version": 3
   },
   "file_extension": ".py",
   "mimetype": "text/x-python",
   "name": "python",
   "nbconvert_exporter": "python",
   "pygments_lexer": "ipython3",
   "version": "3.9.13"
  },
  "orig_nbformat": 4,
  "vscode": {
   "interpreter": {
    "hash": "27fd6a064d6c7c8082aaa95ab329c8297122ddbb839f6b085e9f9d2309e1bfb3"
   }
  }
 },
 "nbformat": 4,
 "nbformat_minor": 2
}
