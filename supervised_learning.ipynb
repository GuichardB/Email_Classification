{
 "cells": [
  {
   "attachments": {},
   "cell_type": "markdown",
   "metadata": {},
   "source": [
    "# Classification supervisée"
   ]
  },
  {
   "attachments": {},
   "cell_type": "markdown",
   "metadata": {},
   "source": [
    "## Importation et préparation des données"
   ]
  },
  {
   "cell_type": "code",
   "execution_count": 1,
   "metadata": {},
   "outputs": [],
   "source": [
    "import pandas as pd\n",
    "import numpy as np\n",
    "import ast"
   ]
  },
  {
   "cell_type": "code",
   "execution_count": 2,
   "metadata": {},
   "outputs": [
    {
     "data": {
      "text/html": [
       "<div>\n",
       "<style scoped>\n",
       "    .dataframe tbody tr th:only-of-type {\n",
       "        vertical-align: middle;\n",
       "    }\n",
       "\n",
       "    .dataframe tbody tr th {\n",
       "        vertical-align: top;\n",
       "    }\n",
       "\n",
       "    .dataframe thead th {\n",
       "        text-align: right;\n",
       "    }\n",
       "</style>\n",
       "<table border=\"1\" class=\"dataframe\">\n",
       "  <thead>\n",
       "    <tr style=\"text-align: right;\">\n",
       "      <th></th>\n",
       "      <th>corps</th>\n",
       "      <th>cat</th>\n",
       "    </tr>\n",
       "  </thead>\n",
       "  <tbody>\n",
       "    <tr>\n",
       "      <th>0</th>\n",
       "      <td>['dear', 'student', 'ambassador', 'lutt', 'you...</td>\n",
       "      <td>Université</td>\n",
       "    </tr>\n",
       "    <tr>\n",
       "      <th>1</th>\n",
       "      <td>['english', ']', 'dear', 'fellow', 'student', ...</td>\n",
       "      <td>Université</td>\n",
       "    </tr>\n",
       "    <tr>\n",
       "      <th>2</th>\n",
       "      <td>['this', 'confirmation', 'password', 'instagra...</td>\n",
       "      <td>Account &amp; Password</td>\n",
       "    </tr>\n",
       "    <tr>\n",
       "      <th>3</th>\n",
       "      <td>['de', 'michel', 'legault', 'sport', 'cc', 'sd...</td>\n",
       "      <td>Université</td>\n",
       "    </tr>\n",
       "    <tr>\n",
       "      <th>4</th>\n",
       "      <td>['confirmation', 'trip', 'monday', 'november',...</td>\n",
       "      <td>Commandes/Tickets</td>\n",
       "    </tr>\n",
       "    <tr>\n",
       "      <th>...</th>\n",
       "      <td>...</td>\n",
       "      <td>...</td>\n",
       "    </tr>\n",
       "    <tr>\n",
       "      <th>9995</th>\n",
       "      <td>['imagine', 'explore', 'build', 'tedxwoman', '...</td>\n",
       "      <td>Publicité</td>\n",
       "    </tr>\n",
       "    <tr>\n",
       "      <th>9996</th>\n",
       "      <td>['welcome', 'welcome', 'welcome', 'lutt', 'her...</td>\n",
       "      <td>Université</td>\n",
       "    </tr>\n",
       "    <tr>\n",
       "      <th>9997</th>\n",
       "      <td>['hello', 'the', 'rucher', 'creative', 'offer'...</td>\n",
       "      <td>Université</td>\n",
       "    </tr>\n",
       "    <tr>\n",
       "      <th>9998</th>\n",
       "      <td>['techcrunch', 'newsletter', 'saturday', 'apri...</td>\n",
       "      <td>Publicité</td>\n",
       "    </tr>\n",
       "    <tr>\n",
       "      <th>9999</th>\n",
       "      <td>['hello', 'follow', 'request', 'allow', 'enjoy...</td>\n",
       "      <td>Université</td>\n",
       "    </tr>\n",
       "  </tbody>\n",
       "</table>\n",
       "<p>10000 rows × 2 columns</p>\n",
       "</div>"
      ],
      "text/plain": [
       "                                                  corps                 cat\n",
       "0     ['dear', 'student', 'ambassador', 'lutt', 'you...          Université\n",
       "1     ['english', ']', 'dear', 'fellow', 'student', ...          Université\n",
       "2     ['this', 'confirmation', 'password', 'instagra...  Account & Password\n",
       "3     ['de', 'michel', 'legault', 'sport', 'cc', 'sd...          Université\n",
       "4     ['confirmation', 'trip', 'monday', 'november',...   Commandes/Tickets\n",
       "...                                                 ...                 ...\n",
       "9995  ['imagine', 'explore', 'build', 'tedxwoman', '...           Publicité\n",
       "9996  ['welcome', 'welcome', 'welcome', 'lutt', 'her...          Université\n",
       "9997  ['hello', 'the', 'rucher', 'creative', 'offer'...          Université\n",
       "9998  ['techcrunch', 'newsletter', 'saturday', 'apri...           Publicité\n",
       "9999  ['hello', 'follow', 'request', 'allow', 'enjoy...          Université\n",
       "\n",
       "[10000 rows x 2 columns]"
      ]
     },
     "execution_count": 2,
     "metadata": {},
     "output_type": "execute_result"
    }
   ],
   "source": [
    "df = pd.read_csv(\"labeling/labeled_data.csv\")\n",
    "df = df.drop(['Unnamed: 0', 'adressebis', 'objet', 'adresse'], axis=1)\n",
    "df"
   ]
  },
  {
   "cell_type": "code",
   "execution_count": 3,
   "metadata": {},
   "outputs": [
    {
     "data": {
      "text/html": [
       "<div>\n",
       "<style scoped>\n",
       "    .dataframe tbody tr th:only-of-type {\n",
       "        vertical-align: middle;\n",
       "    }\n",
       "\n",
       "    .dataframe tbody tr th {\n",
       "        vertical-align: top;\n",
       "    }\n",
       "\n",
       "    .dataframe thead th {\n",
       "        text-align: right;\n",
       "    }\n",
       "</style>\n",
       "<table border=\"1\" class=\"dataframe\">\n",
       "  <thead>\n",
       "    <tr style=\"text-align: right;\">\n",
       "      <th></th>\n",
       "      <th>corps</th>\n",
       "      <th>cat</th>\n",
       "    </tr>\n",
       "  </thead>\n",
       "  <tbody>\n",
       "    <tr>\n",
       "      <th>0</th>\n",
       "      <td>dear student ambassador lutt you make promotio...</td>\n",
       "      <td>Université</td>\n",
       "    </tr>\n",
       "    <tr>\n",
       "      <th>1</th>\n",
       "      <td>english ] dear fellow student for four week mo...</td>\n",
       "      <td>Université</td>\n",
       "    </tr>\n",
       "    <tr>\n",
       "      <th>2</th>\n",
       "      <td>this confirmation password instagram account o...</td>\n",
       "      <td>Account &amp; Password</td>\n",
       "    </tr>\n",
       "    <tr>\n",
       "      <th>3</th>\n",
       "      <td>de michel legault sport cc sds envoy wednesday...</td>\n",
       "      <td>Université</td>\n",
       "    </tr>\n",
       "    <tr>\n",
       "      <th>4</th>\n",
       "      <td>confirmation trip monday november hello you pl...</td>\n",
       "      <td>Commandes/Tickets</td>\n",
       "    </tr>\n",
       "    <tr>\n",
       "      <th>...</th>\n",
       "      <td>...</td>\n",
       "      <td>...</td>\n",
       "    </tr>\n",
       "    <tr>\n",
       "      <th>9995</th>\n",
       "      <td>imagine explore build tedxwoman event tedxpaju...</td>\n",
       "      <td>Publicité</td>\n",
       "    </tr>\n",
       "    <tr>\n",
       "      <th>9996</th>\n",
       "      <td>welcome welcome welcome lutt here procedure fo...</td>\n",
       "      <td>Université</td>\n",
       "    </tr>\n",
       "    <tr>\n",
       "      <th>9997</th>\n",
       "      <td>hello the rucher creative offer velos scholars...</td>\n",
       "      <td>Université</td>\n",
       "    </tr>\n",
       "    <tr>\n",
       "      <th>9998</th>\n",
       "      <td>techcrunch newsletter saturday april hi m greg...</td>\n",
       "      <td>Publicité</td>\n",
       "    </tr>\n",
       "    <tr>\n",
       "      <th>9999</th>\n",
       "      <td>hello follow request allow enjoy beautiful we ...</td>\n",
       "      <td>Université</td>\n",
       "    </tr>\n",
       "  </tbody>\n",
       "</table>\n",
       "<p>10000 rows × 2 columns</p>\n",
       "</div>"
      ],
      "text/plain": [
       "                                                  corps                 cat\n",
       "0     dear student ambassador lutt you make promotio...          Université\n",
       "1     english ] dear fellow student for four week mo...          Université\n",
       "2     this confirmation password instagram account o...  Account & Password\n",
       "3     de michel legault sport cc sds envoy wednesday...          Université\n",
       "4     confirmation trip monday november hello you pl...   Commandes/Tickets\n",
       "...                                                 ...                 ...\n",
       "9995  imagine explore build tedxwoman event tedxpaju...           Publicité\n",
       "9996  welcome welcome welcome lutt here procedure fo...          Université\n",
       "9997  hello the rucher creative offer velos scholars...          Université\n",
       "9998  techcrunch newsletter saturday april hi m greg...           Publicité\n",
       "9999  hello follow request allow enjoy beautiful we ...          Université\n",
       "\n",
       "[10000 rows x 2 columns]"
      ]
     },
     "execution_count": 3,
     "metadata": {},
     "output_type": "execute_result"
    }
   ],
   "source": [
    "i=0\n",
    "while i < len(df):\n",
    "    df['corps'][i] = ast.literal_eval(df['corps'][i])\n",
    "    df['corps'][i] = ' '.join(df['corps'][i])\n",
    "    i+=1\n",
    "\n",
    "df"
   ]
  },
  {
   "cell_type": "code",
   "execution_count": 4,
   "metadata": {},
   "outputs": [
    {
     "data": {
      "text/plain": [
       "<AxesSubplot: >"
      ]
     },
     "execution_count": 4,
     "metadata": {},
     "output_type": "execute_result"
    },
    {
     "data": {
      "image/png": "[encoded data removed]",
      "text/plain": [
       "<Figure size 1000x400 with 1 Axes>"
      ]
     },
     "metadata": {},
     "output_type": "display_data"
    }
   ],
   "source": [
    "import matplotlib.pyplot as plt\n",
    "\n",
    "plt.figure(figsize=(10,4))\n",
    "df.cat.value_counts().plot(kind='bar')"
   ]
  },
  {
   "cell_type": "code",
   "execution_count": 5,
   "metadata": {},
   "outputs": [
    {
     "data": {
      "text/plain": [
       "943142"
      ]
     },
     "execution_count": 5,
     "metadata": {},
     "output_type": "execute_result"
    }
   ],
   "source": [
    "df['corps'].apply(lambda x: len(x.split(' '))).sum()"
   ]
  },
  {
   "cell_type": "code",
   "execution_count": 6,
   "metadata": {},
   "outputs": [],
   "source": [
    "from sklearn.model_selection import train_test_split\n",
    "\n",
    "X = df['corps']\n",
    "\n",
    "y = df['cat']\n",
    "\n",
    "X_train, X_test, y_train, y_test = train_test_split(X, y, test_size=0.3, random_state=42)"
   ]
  },
  {
   "attachments": {},
   "cell_type": "markdown",
   "metadata": {},
   "source": [
    "## 1. Naive Bayes Classifier for Multinomial Models"
   ]
  },
  {
   "cell_type": "code",
   "execution_count": 7,
   "metadata": {},
   "outputs": [
    {
     "name": "stdout",
     "output_type": "stream",
     "text": [
      "accuracy 0.7106666666666667\n",
      "                    precision    recall  f1-score   support\n",
      "\n",
      "Account & Password       0.98      0.37      0.53       125\n",
      "     Administratif       0.00      0.00      0.00        38\n",
      "            Autres       0.00      0.00      0.00         9\n",
      " Commandes/Tickets       0.00      0.00      0.00        61\n",
      "          Economie       1.00      0.36      0.53       106\n",
      "          Logement       0.00      0.00      0.00        44\n",
      "             Perso       0.95      0.11      0.20       158\n",
      "  Pro/Candidatures       0.96      0.42      0.59       347\n",
      "         Publicité       0.80      0.80      0.80       662\n",
      "               RDV       0.00      0.00      0.00        14\n",
      "   Réseaux sociaux       0.98      0.65      0.78       229\n",
      "        Université       0.63      1.00      0.77      1207\n",
      "\n",
      "          accuracy                           0.71      3000\n",
      "         macro avg       0.52      0.31      0.35      3000\n",
      "      weighted avg       0.74      0.71      0.66      3000\n",
      "\n"
     ]
    },
    {
     "name": "stderr",
     "output_type": "stream",
     "text": [
      "c:\\Users\\bapti\\AppData\\Local\\Programs\\Python\\Python310\\lib\\site-packages\\sklearn\\metrics\\_classification.py:1318: UndefinedMetricWarning: Precision and F-score are ill-defined and being set to 0.0 in labels with no predicted samples. Use `zero_division` parameter to control this behavior.\n",
      "  _warn_prf(average, modifier, msg_start, len(result))\n",
      "c:\\Users\\bapti\\AppData\\Local\\Programs\\Python\\Python310\\lib\\site-packages\\sklearn\\metrics\\_classification.py:1318: UndefinedMetricWarning: Precision and F-score are ill-defined and being set to 0.0 in labels with no predicted samples. Use `zero_division` parameter to control this behavior.\n",
      "  _warn_prf(average, modifier, msg_start, len(result))\n",
      "c:\\Users\\bapti\\AppData\\Local\\Programs\\Python\\Python310\\lib\\site-packages\\sklearn\\metrics\\_classification.py:1318: UndefinedMetricWarning: Precision and F-score are ill-defined and being set to 0.0 in labels with no predicted samples. Use `zero_division` parameter to control this behavior.\n",
      "  _warn_prf(average, modifier, msg_start, len(result))\n"
     ]
    }
   ],
   "source": [
    "from sklearn.naive_bayes import MultinomialNB\n",
    "from sklearn.pipeline import Pipeline\n",
    "from sklearn.feature_extraction.text import TfidfTransformer\n",
    "from sklearn.model_selection import train_test_split\n",
    "from sklearn.feature_extraction.text import CountVectorizer, TfidfVectorizer\n",
    "from sklearn.metrics import accuracy_score, confusion_matrix\n",
    "\n",
    "nb = Pipeline([('vect', CountVectorizer()),\n",
    "                ('tfidf', TfidfTransformer()),\n",
    "                ('clf', MultinomialNB()),\n",
    "                ])\n",
    "\n",
    "nb.fit(X_train, y_train)\n",
    "\n",
    "from sklearn.metrics import classification_report\n",
    "y_pred = nb.predict(X_test)\n",
    "\n",
    "print('accuracy %s' % accuracy_score(y_pred, y_test))\n",
    "print(classification_report(y_test, y_pred))"
   ]
  },
  {
   "attachments": {},
   "cell_type": "markdown",
   "metadata": {},
   "source": [
    "## 2. Linear Support Vector Machine"
   ]
  },
  {
   "cell_type": "code",
   "execution_count": 8,
   "metadata": {},
   "outputs": [
    {
     "name": "stdout",
     "output_type": "stream",
     "text": [
      "accuracy 0.9166666666666666\n",
      "                    precision    recall  f1-score   support\n",
      "\n",
      "Account & Password       0.83      0.80      0.82       125\n",
      "     Administratif       0.91      0.76      0.83        38\n",
      "            Autres       0.89      0.89      0.89         9\n",
      " Commandes/Tickets       0.83      0.82      0.83        61\n",
      "          Economie       0.92      0.92      0.92       106\n",
      "          Logement       0.78      0.80      0.79        44\n",
      "             Perso       0.79      0.73      0.76       158\n",
      "  Pro/Candidatures       0.93      0.86      0.89       347\n",
      "         Publicité       0.93      0.94      0.93       662\n",
      "               RDV       0.90      0.64      0.75        14\n",
      "   Réseaux sociaux       0.97      0.94      0.96       229\n",
      "        Université       0.93      0.97      0.95      1207\n",
      "\n",
      "          accuracy                           0.92      3000\n",
      "         macro avg       0.88      0.84      0.86      3000\n",
      "      weighted avg       0.92      0.92      0.92      3000\n",
      "\n"
     ]
    }
   ],
   "source": [
    "from sklearn.linear_model import SGDClassifier\n",
    "\n",
    "sgd = Pipeline([('vect', CountVectorizer()),\n",
    "                ('tfidf', TfidfTransformer()),\n",
    "                ('clf', SGDClassifier(loss='hinge', penalty='l2', random_state=42, max_iter=5, tol=None)),\n",
    "                ])\n",
    "\n",
    "sgd.fit(X_train, y_train)\n",
    "\n",
    "y_pred = sgd.predict(X_test)\n",
    "\n",
    "print('accuracy %s' % accuracy_score(y_pred, y_test))\n",
    "print(classification_report(y_test, y_pred))"
   ]
  },
  {
   "attachments": {},
   "cell_type": "markdown",
   "metadata": {},
   "source": [
    "## 3. Logistic Regression"
   ]
  },
  {
   "cell_type": "code",
   "execution_count": 9,
   "metadata": {},
   "outputs": [
    {
     "name": "stderr",
     "output_type": "stream",
     "text": [
      "c:\\Users\\bapti\\AppData\\Local\\Programs\\Python\\Python310\\lib\\site-packages\\sklearn\\linear_model\\_logistic.py:814: ConvergenceWarning: lbfgs failed to converge (status=1):\n",
      "STOP: TOTAL NO. of ITERATIONS REACHED LIMIT.\n",
      "\n",
      "Increase the number of iterations (max_iter) or scale the data as shown in:\n",
      "    https://scikit-learn.org/stable/modules/preprocessing.html\n",
      "Please also refer to the documentation for alternative solver options:\n",
      "    https://scikit-learn.org/stable/modules/linear_model.html#logistic-regression\n",
      "  n_iter_i = _check_optimize_result(\n"
     ]
    },
    {
     "name": "stdout",
     "output_type": "stream",
     "text": [
      "accuracy 0.9153333333333333\n",
      "                    precision    recall  f1-score   support\n",
      "\n",
      "Account & Password       0.81      0.84      0.82       125\n",
      "     Administratif       0.90      0.71      0.79        38\n",
      "            Autres       1.00      0.89      0.94         9\n",
      " Commandes/Tickets       0.73      0.75      0.74        61\n",
      "          Economie       0.92      0.92      0.92       106\n",
      "          Logement       0.77      0.82      0.79        44\n",
      "             Perso       0.75      0.82      0.78       158\n",
      "  Pro/Candidatures       0.89      0.88      0.88       347\n",
      "         Publicité       0.93      0.93      0.93       662\n",
      "               RDV       0.83      0.71      0.77        14\n",
      "   Réseaux sociaux       0.97      0.94      0.95       229\n",
      "        Université       0.96      0.95      0.95      1207\n",
      "\n",
      "          accuracy                           0.92      3000\n",
      "         macro avg       0.87      0.85      0.86      3000\n",
      "      weighted avg       0.92      0.92      0.92      3000\n",
      "\n"
     ]
    }
   ],
   "source": [
    "from sklearn.linear_model import LogisticRegression\n",
    "\n",
    "logreg = Pipeline([('vect', CountVectorizer()),\n",
    "                ('tfidf', TfidfTransformer()),\n",
    "                ('clf', LogisticRegression(n_jobs=1, C=1e5)),\n",
    "                ])\n",
    "\n",
    "logreg.fit(X_train, y_train)\n",
    "\n",
    "y_pred = logreg.predict(X_test)\n",
    "\n",
    "print('accuracy %s' % accuracy_score(y_pred, y_test))\n",
    "print(classification_report(y_test, y_pred))"
   ]
  }
 ],
 "metadata": {
  "kernelspec": {
   "display_name": "Python 3",
   "language": "python",
   "name": "python3"
  },
  "language_info": {
   "codemirror_mode": {
    "name": "ipython",
    "version": 3
   },
   "file_extension": ".py",
   "mimetype": "text/x-python",
   "name": "python",
   "nbconvert_exporter": "python",
   "pygments_lexer": "ipython3",
   "version": "3.10.8"
  },
  "orig_nbformat": 4,
  "vscode": {
   "interpreter": {
    "hash": "27fd6a064d6c7c8082aaa95ab329c8297122ddbb839f6b085e9f9d2309e1bfb3"
   }
  }
 },
 "nbformat": 4,
 "nbformat_minor": 2
}
